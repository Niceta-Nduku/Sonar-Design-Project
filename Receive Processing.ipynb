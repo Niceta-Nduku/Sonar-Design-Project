{
 "cells": [
  {
   "cell_type": "markdown",
   "metadata": {},
   "source": [
    "## Sampling fot the Match Filter"
   ]
  },
  {
   "cell_type": "code",
   "execution_count": null,
   "metadata": {},
   "outputs": [],
   "source": [
    "#Libraries to import\n",
    "using SerialPorts\n",
    "using PyPlot\n",
    "using FFTW "
   ]
  },
  {
   "cell_type": "code",
   "execution_count": null,
   "metadata": {},
   "outputs": [],
   "source": [
    "list_serialports() # show available ports\n",
    "try\n",
    "    ser = SerialPort(\"COM3:\", 9600) \n",
    "\n",
    "    r = readavailable(ser)\n",
    "\n",
    "    # Start a conversion\n",
    "    write(ser, \"c\")\n",
    "\n",
    "    BytesAvailable = bytesavailable(ser)\n",
    "\n",
    "    while bytesavailable(ser) < 1\n",
    "        continue \n",
    "    end\n",
    "    sleep(0.05)\n",
    "    r = readavailable(ser)\n",
    "    t = r\n",
    "    # Get the values\n",
    "    write(ser, \"p\") # Print DMA buffer\n",
    "    while bytesavailable(ser) < 1\n",
    "        continue # wait for a response\n",
    "    end\n",
    "    a = []\n",
    "    b = \"\"\n",
    "    i = 0\n",
    "    while true\n",
    "        if bytesavailable(ser) < 2\n",
    "            sleep(0.005) # Wait and check again\n",
    "            if bytesavailable(ser) < 1\n",
    "                break\n",
    "            end\n",
    "        end\n",
    "\n",
    "        b = string(b, readavailable(ser))\n",
    "\n",
    "    end \n",
    "\n",
    "    close(ser)\n",
    "\n",
    "    a=split(b, (\"\\r\\n\"))\n",
    "\n",
    "    println(length(a))\n",
    "    \n",
    "catch e\n",
    "    println(\"something bad happened\")\n",
    "end"
   ]
  },
  {
   "cell_type": "code",
   "execution_count": null,
   "metadata": {},
   "outputs": [],
   "source": [
    "ac = zeros(Int,length(a))\n",
    "\n",
    "for i = 1:length(a)-1\n",
    "    ac[i] = parse(Int,chomp(a[i]))\n",
    "end\n",
    "\n",
    "match = (3.3/4096).*ac\n",
    "\n",
    "figure()\n",
    "plot(match)"
   ]
  },
  {
   "cell_type": "markdown",
   "metadata": {},
   "source": [
    "## Sampling the Echo "
   ]
  },
  {
   "cell_type": "code",
   "execution_count": null,
   "metadata": {},
   "outputs": [],
   "source": [
    "list_serialports() # show available ports\n",
    "try\n",
    "    ser = SerialPort(\"COM3:\", 9600) \n",
    "\n",
    "    r = readavailable(ser)\n",
    "\n",
    "    # Start a conversion\n",
    "    write(ser, \"c\")\n",
    "\n",
    "    BytesAvailable = bytesavailable(ser)\n",
    "\n",
    "    while bytesavailable(ser) < 1\n",
    "        continue \n",
    "    end\n",
    "    sleep(0.05)\n",
    "    r = readavailable(ser)\n",
    "    \n",
    "    # Get the values\n",
    "    write(ser, \"p\") # Print DMA buffer\n",
    "    while bytesavailable(ser) < 1\n",
    "        continue # wait for a response\n",
    "    end\n",
    "    a = []\n",
    "    b = \"\"\n",
    "    i = 0\n",
    "    while true\n",
    "        if bytesavailable(ser) < 2\n",
    "            sleep(0.005) # Wait and check again\n",
    "            if bytesavailable(ser) < 1\n",
    "                break\n",
    "            end\n",
    "        end\n",
    "\n",
    "        b = string(b, readavailable(ser))\n",
    "\n",
    "    end \n",
    "\n",
    "    close(ser)\n",
    "\n",
    "    a=split(b, (\"\\r\\n\"))\n",
    "\n",
    "    println(length(a))\n",
    "    \n",
    "catch e\n",
    "    println(\"something bad happened\")\n",
    "end"
   ]
  },
  {
   "cell_type": "code",
   "execution_count": null,
   "metadata": {
    "scrolled": true
   },
   "outputs": [],
   "source": [
    "\n",
    "rc = zeros(Int,length(a))\n",
    "\n",
    "for i = 1:length(a)-1\n",
    "    rc[i] = parse(Int,chomp(a[i]))\n",
    "end\n",
    "\n",
    "receive = (3.3/4096).*rc\n",
    "\n",
    "figure()\n",
    "plot(match)"
   ]
  },
  {
   "cell_type": "markdown",
   "metadata": {},
   "source": []
  },
  {
   "cell_type": "code",
   "execution_count": null,
   "metadata": {},
   "outputs": [],
   "source": [
    "v_tx = match\n",
    "\n",
    "print(length(v_tx))\n",
    "figure() # Create a new figure\n",
    "title(\"Transmitted pulse\")\n",
    "xlabel(\"Samples\")\n",
    "plot(v_tx) # Basic plot, axis labeled in samples"
   ]
  },
  {
   "cell_type": "code",
   "execution_count": null,
   "metadata": {
    "scrolled": true
   },
   "outputs": [],
   "source": [
    "#to see the freqeuncy domain use FFT function\n",
    "V_TX = fft(v_tx);\n",
    "\n",
    "figure()\n",
    "title(\"FFT of transmitted pulse on sampling axis\")\n",
    "xlabel(\"Samples\")\n",
    "plot( abs.(V_TX) )"
   ]
  },
  {
   "cell_type": "code",
   "execution_count": null,
   "metadata": {},
   "outputs": [],
   "source": [
    "v_rx = received\n",
    "\n",
    "\n",
    "figure() # Create a new figure\n",
    "title(\"Unprocessed received pulse\")\n",
    "plot(v_rx) # Basic plot, axis labeled in samples"
   ]
  },
  {
   "cell_type": "code",
   "execution_count": null,
   "metadata": {},
   "outputs": [],
   "source": [
    "V_RX = fft(v_rx);\n",
    "\n",
    "figure()\n",
    "title(\"FFT of received pulse before processing\")\n",
    "plot( abs.(V_RX) )"
   ]
  },
  {
   "cell_type": "code",
   "execution_count": null,
   "metadata": {},
   "outputs": [],
   "source": [
    "H = conj( V_TX);\n",
    "\n",
    "V_MF = H.*V_RX;\n",
    "v_mf = ifft(V_MF);\n",
    "\n",
    "figure() # Create a new figure\n",
    "xlabel(\"Time in seconds\")\n",
    "title(\" Match Filtered output of received pulse\")\n",
    "plot(v_mf) # Basic plot, axis labeled in samples\n",
    "\n",
    "figure()\n",
    "plot( abs.(V_MF) )"
   ]
  },
  {
   "cell_type": "code",
   "execution_count": null,
   "metadata": {},
   "outputs": [],
   "source": [
    "V_ANAL = 2*V_MF; # make a copy and double the values\n",
    "N = length(V_MF);\n",
    "\n",
    "V_ANAL = 2*V_MF; # make a copy and double the values\n",
    "\n",
    "N = length(V_MF);\n",
    "\n",
    "if mod(N,2)==0 # case N even\n",
    "    neg_freq_range = Int(N/2):N; # Define range of “neg-freq” components\n",
    "else # case N odd\n",
    "    neg_freq_range = Int((N+1)/2):N;\n",
    "end\n",
    "\n",
    "V_ANAL[neg_freq_range] .= 0; # Zero out neg components in 2nd half of array.\n",
    "v_anal = ifft(V_ANAL);"
   ]
  },
  {
   "cell_type": "code",
   "execution_count": null,
   "metadata": {},
   "outputs": [],
   "source": [
    "figure()\n",
    "title(\"Analytic signal\")\n",
    "xlabel(\"Range in meters\")\n",
    "plot(r,abs.(v_anal))"
   ]
  },
  {
   "cell_type": "code",
   "execution_count": null,
   "metadata": {},
   "outputs": [],
   "source": [
    "j=im; # Assign j as sqrt(-1) (“im” in julia)\n",
    "v_bb = v_anal.*exp.(-j*2*pi*f0.*t);"
   ]
  },
  {
   "cell_type": "code",
   "execution_count": null,
   "metadata": {},
   "outputs": [],
   "source": [
    "figure()\n",
    "subplot(2,1,1)\n",
    "plot(r,abs.(v_bb))\n",
    "subplot(2,1,2)\n",
    "plot(r,angle.(v_bb)) #query"
   ]
  },
  {
   "cell_type": "code",
   "execution_count": null,
   "metadata": {},
   "outputs": [],
   "source": [
    "V_BB = fft(v_bb); \n",
    "figure()\n",
    "plot(abs.(v_bb))"
   ]
  }
 ],
 "metadata": {
  "kernelspec": {
   "display_name": "Julia 1.1.0",
   "language": "julia",
   "name": "julia-1.1"
  },
  "language_info": {
   "file_extension": ".jl",
   "mimetype": "application/julia",
   "name": "julia",
   "version": "1.1.0"
  }
 },
 "nbformat": 4,
 "nbformat_minor": 2
}
