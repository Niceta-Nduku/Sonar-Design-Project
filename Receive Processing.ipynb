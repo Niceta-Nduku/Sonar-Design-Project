{
 "cells": [
  {
   "cell_type": "code",
   "execution_count": 41,
   "metadata": {},
   "outputs": [
    {
     "name": "stdout",
     "output_type": "stream",
     "text": [
      "COM3\n",
      "\tDescription:\tUSB Serial Device (COM3)\n",
      "\tTransport type:\tSP_TRANSPORT_USB\n",
      "5413"
     ]
    },
    {
     "data": {
      "text/plain": [
       "SerialPort(Ptr{LibSerialPort.SPPort} @0x000000002d08b430, false, false)"
      ]
     },
     "execution_count": 41,
     "metadata": {},
     "output_type": "execute_result"
    }
   ],
   "source": [
    "using LibSerialPort\n",
    "\n",
    "list_ports() \n",
    "\n",
    "ser = open(\"COM3\", 9600)\n",
    "\n",
    "r = readbytes!(ser, bytesavailable(ser)) #clear \n",
    "\n",
    "# Start a conversion\n",
    "write(ser, \"c\")\n",
    "\n",
    "while bytesavailable(ser) < 1\n",
    "    continue \n",
    "end\n",
    "sleep(0.05)\n",
    "\n",
    "r = readbytes!(ser,bytesavailable(ser)) #clear \n",
    "\n",
    "# Get the values\n",
    "write(ser, \"p\") # Print DMA buffer\n",
    "\n",
    "while bytesavailable(ser) < 1\n",
    "    continue # wait for a response\n",
    "end\n",
    "a = []\n",
    "i = 0\n",
    "while true\n",
    "    if bytesavailable(ser) < 1\n",
    "        sleep(0.005) # Wait and check again\n",
    "        if bytesavailable(ser) < 1\n",
    "            break\n",
    "        end\n",
    "    end\n",
    "    b = readline(ser)\n",
    "    push!(a,b)  \n",
    "end   \n",
    "\n",
    "print(i)\n",
    "                    \n",
    "close(ser)"
   ]
  },
  {
   "cell_type": "code",
   "execution_count": null,
   "metadata": {},
   "outputs": [],
   "source": [
    "values = parse(Int64,strip(.a, ['\\r','\\n']))"
   ]
  },
  {
   "cell_type": "code",
   "execution_count": 42,
   "metadata": {},
   "outputs": [
    {
     "data": {
      "image/png": "[encoded data removed]",
      "text/plain": [
       "Figure(PyObject <Figure size 640x480 with 1 Axes>)"
      ]
     },
     "metadata": {},
     "output_type": "display_data"
    },
    {
     "data": {
      "text/plain": [
       "1-element Array{PyCall.PyObject,1}:\n",
       " PyObject <matplotlib.lines.Line2D object at 0x000000002A0B3278>"
      ]
     },
     "execution_count": 42,
     "metadata": {},
     "output_type": "execute_result"
    }
   ],
   "source": [
    "using PyPlot\n",
    "receive = (3.3/4096).*a\n",
    "figure()\n",
    "plot(receive)"
   ]
  },
  {
   "cell_type": "code",
   "execution_count": 38,
   "metadata": {},
   "outputs": [
    {
     "ename": "UndefVarError",
     "evalue": "UndefVarError: v_tx not defined",
     "output_type": "error",
     "traceback": [
      "UndefVarError: v_tx not defined",
      "",
      "Stacktrace:",
      " [1] top-level scope at In[38]:1"
     ]
    }
   ],
   "source": [
    "v_tx = \n",
    "\n",
    "print(length(v_tx))\n",
    "figure() # Create a new figure\n",
    "title(\"basic transmitted pulse\")\n",
    "xlabel(\"Time in seconds\")\n",
    "plot(v_tx) # Basic plot, axis labeled in samples"
   ]
  },
  {
   "cell_type": "code",
   "execution_count": null,
   "metadata": {},
   "outputs": [],
   "source": [
    "#to see the freqeuncy domain use FFT function\n",
    "using FFTW \n",
    "V_TX = fft(v_tx);\n",
    "\n",
    "figure()\n",
    "title(\"FFT of transmitted pulse on sampling axis\")\n",
    "xlabel(\"Frequency in Hz\")\n",
    "plot( abs.(V_TX) )"
   ]
  },
  {
   "cell_type": "code",
   "execution_count": null,
   "metadata": {},
   "outputs": [],
   "source": [
    "v_rx = receive\n",
    "\n",
    "using PyPlot\n",
    "\n",
    "figure() # Create a new figure\n",
    "title(\"received pulse\")\n",
    "plot(v_rx) # Basic plot, axis labeled in samples"
   ]
  },
  {
   "cell_type": "code",
   "execution_count": null,
   "metadata": {},
   "outputs": [],
   "source": [
    "using FFTW \n",
    "V_RX = fft(v_rx);\n",
    "\n",
    "figure()\n",
    "title(\"FFT of received pulse for both point targets\")\n",
    "plot( abs.(V_RX) )"
   ]
  },
  {
   "cell_type": "code",
   "execution_count": null,
   "metadata": {},
   "outputs": [],
   "source": [
    "H = conj( V_TX);\n",
    "\n",
    "V_MF = H.*V_RX;\n",
    "v_mf = ifft(V_MF);\n",
    "\n",
    "figure()\n",
    "plot( abs.(V_MF) )\n",
    "\n",
    "figure() # Create a new figure\n",
    "xlabel(\"Time in seconds\")\n",
    "title(\" Match Filtered output of received pulse with both point targets\")\n",
    "plot(t,v_mf) # Basic plot, axis labeled in samples"
   ]
  },
  {
   "cell_type": "code",
   "execution_count": null,
   "metadata": {},
   "outputs": [],
   "source": [
    "V_ANAL = 2*V_MF; # make a copy and double the values\n",
    "N = length(V_MF);\n",
    "\n",
    "V_ANAL = 2*V_MF; # make a copy and double the values\n",
    "N = length(V_MF);\n",
    "if mod(N,2)==0 # case N even\n",
    "    neg_freq_range = Int(N/2):N; # Define range of “neg-freq” components\n",
    "else # case N odd\n",
    "    neg_freq_range = Int((N+1)/2):N;\n",
    "end\n",
    "\n",
    "V_ANAL[neg_freq_range] .= 0; # Zero out neg components in 2nd half of array.\n",
    "v_anal = ifft(V_ANAL);"
   ]
  },
  {
   "cell_type": "code",
   "execution_count": null,
   "metadata": {},
   "outputs": [],
   "source": [
    "figure()\n",
    "title(\"Analytic signal\")\n",
    "xlabel(\"Range in meters\")\n",
    "plot(r,abs.(v_anal))"
   ]
  },
  {
   "cell_type": "code",
   "execution_count": null,
   "metadata": {},
   "outputs": [],
   "source": [
    "j=im; # Assign j as sqrt(-1) (“im” in julia)\n",
    "v_bb = v_anal.*exp.(-j*2*pi*f0.*t);"
   ]
  },
  {
   "cell_type": "code",
   "execution_count": null,
   "metadata": {},
   "outputs": [],
   "source": [
    "figure()\n",
    "subplot(2,1,1)\n",
    "plot(r,abs.(v_bb))\n",
    "subplot(2,1,2)\n",
    "plot(r,angle.(v_bb)) #query"
   ]
  },
  {
   "cell_type": "code",
   "execution_count": null,
   "metadata": {},
   "outputs": [],
   "source": [
    "V_BB = fft(v_bb); \n",
    "figure()\n",
    "plot(abs.(v_bb))"
   ]
  }
 ],
 "metadata": {
  "kernelspec": {
   "display_name": "Julia 1.1.0",
   "language": "julia",
   "name": "julia-1.1"
  },
  "language_info": {
   "file_extension": ".jl",
   "mimetype": "application/julia",
   "name": "julia",
   "version": "1.1.0"
  }
 },
 "nbformat": 4,
 "nbformat_minor": 2
}
