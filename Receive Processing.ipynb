{
 "cells": [
  {
   "cell_type": "code",
   "execution_count": null,
   "metadata": {},
   "outputs": [],
   "source": [
    "v_tx = \n",
    "\n",
    "using PyPlot\n",
    "\n",
    "figure() # Create a new figure\n",
    "title(\"basic transmitted pulse\")\n",
    "xlabel(\"Time in seconds\")\n",
    "plot(v_tx) # Basic plot, axis labeled in samples"
   ]
  },
  {
   "cell_type": "code",
   "execution_count": null,
   "metadata": {},
   "outputs": [],
   "source": [
    "#to see the freqeuncy domain use FFT function\n",
    "using FFTW \n",
    "V_TX = fft(v_tx);\n",
    "\n",
    "figure()\n",
    "title(\"FFT of transmitted pulse on sampling axis\")\n",
    "xlabel(\"Frequency in Hz\")\n",
    "plot( abs.(V_TX) )"
   ]
  },
  {
   "cell_type": "code",
   "execution_count": null,
   "metadata": {},
   "outputs": [],
   "source": [
    "v_rx = \n",
    "\n",
    "using PyPlot\n",
    "\n",
    "figure() # Create a new figure\n",
    "title(\"received pulse\")\n",
    "plot(v_rx) # Basic plot, axis labeled in samples"
   ]
  },
  {
   "cell_type": "code",
   "execution_count": null,
   "metadata": {},
   "outputs": [],
   "source": [
    "using FFTW \n",
    "V_RX = fft(v_rx);\n",
    "\n",
    "figure()\n",
    "title(\"FFT of received pulse for both point targets\")\n",
    "plot( abs.(V_RX) )"
   ]
  },
  {
   "cell_type": "code",
   "execution_count": null,
   "metadata": {},
   "outputs": [],
   "source": [
    "H = conj( V_TX);\n",
    "\n",
    "V_MF = H.*V_RX;\n",
    "v_mf = ifft(V_MF);\n",
    "\n",
    "figure()\n",
    "plot( abs.(V_MF) )\n",
    "\n",
    "figure() # Create a new figure\n",
    "xlabel(\"Time in seconds\")\n",
    "title(\" Match Filtered output of received pulse with both point targets\")\n",
    "plot(t,v_mf) # Basic plot, axis labeled in samples"
   ]
  },
  {
   "cell_type": "code",
   "execution_count": null,
   "metadata": {},
   "outputs": [],
   "source": [
    "V_ANAL = 2*V_MF; # make a copy and double the values\n",
    "N = length(V_MF);\n",
    "\n",
    "V_ANAL = 2*V_MF; # make a copy and double the values\n",
    "N = length(V_MF);\n",
    "if mod(N,2)==0 # case N even\n",
    "    neg_freq_range = Int(N/2):N; # Define range of “neg-freq” components\n",
    "else # case N odd\n",
    "    neg_freq_range = Int((N+1)/2):N;\n",
    "end\n",
    "\n",
    "V_ANAL[neg_freq_range] .= 0; # Zero out neg components in 2nd half of array.\n",
    "v_anal = ifft(V_ANAL);"
   ]
  },
  {
   "cell_type": "code",
   "execution_count": null,
   "metadata": {},
   "outputs": [],
   "source": [
    "figure()\n",
    "title(\"Analytic signal\")\n",
    "xlabel(\"Range in meters\")\n",
    "plot(r,abs.(v_anal))"
   ]
  },
  {
   "cell_type": "code",
   "execution_count": null,
   "metadata": {},
   "outputs": [],
   "source": [
    "j=im; # Assign j as sqrt(-1) (“im” in julia)\n",
    "v_bb = v_anal.*exp.(-j*2*pi*f0.*t);"
   ]
  },
  {
   "cell_type": "code",
   "execution_count": null,
   "metadata": {},
   "outputs": [],
   "source": [
    "figure()\n",
    "subplot(2,1,1)\n",
    "plot(r,abs.(v_bb))\n",
    "subplot(2,1,2)\n",
    "plot(r,angle.(v_bb)) #query"
   ]
  },
  {
   "cell_type": "code",
   "execution_count": null,
   "metadata": {},
   "outputs": [],
   "source": [
    "V_BB = fft(v_bb); \n",
    "figure()\n",
    "plot(abs.(v_bb))"
   ]
  }
 ],
 "metadata": {
  "kernelspec": {
   "display_name": "Julia 1.0.3",
   "language": "julia",
   "name": "julia-1.0"
  },
  "language_info": {
   "file_extension": ".jl",
   "mimetype": "application/julia",
   "name": "julia",
   "version": "1.0.3"
  }
 },
 "nbformat": 4,
 "nbformat_minor": 2
}
