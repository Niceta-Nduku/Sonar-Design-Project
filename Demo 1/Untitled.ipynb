{
 "cells": [
  {
   "cell_type": "code",
   "execution_count": 8,
   "metadata": {},
   "outputs": [
    {
     "name": "stdout",
     "output_type": "stream",
     "text": [
      "7\n"
     ]
    },
    {
     "ename": "ArgumentError",
     "evalue": "ArgumentError: input string is empty or only contains whitespace",
     "output_type": "error",
     "traceback": [
      "ArgumentError: input string is empty or only contains whitespace",
      "",
      "Stacktrace:",
      " [1] tryparse_internal(::Type{Int64}, ::SubString{String}, ::Int64, ::Int64, ::Int64, ::Bool) at ./parse.jl:92",
      " [2] #parse#334(::Nothing, ::Function, ::Type{Int64}, ::SubString{String}) at ./parse.jl:230",
      " [3] parse(::Type{Int64}, ::SubString{String}) at ./parse.jl:230",
      " [4] top-level scope at ./In[8]:60"
     ]
    }
   ],
   "source": [
    "#Libraries to import\n",
    "using SerialPorts\n",
    "using PyPlot\n",
    "using FFTW \n",
    "\n",
    "list_serialports() # show available ports\n",
    "\n",
    "\n",
    "\n",
    "\n",
    "ser = SerialPort(\"/dev/ttyACM1\", 9600) \n",
    "\n",
    "ion()\n",
    "\n",
    "a = []\n",
    "b = \"\"\n",
    "i = 0\n",
    "\n",
    "\n",
    "ac = []\n",
    "i=1\n",
    "\n",
    "fig = figure()\n",
    "r = readavailable(ser)\n",
    "\n",
    "# Start a conversion\n",
    "write(ser, \"c\")\n",
    "\n",
    "while bytesavailable(ser) < 1\n",
    "    continue \n",
    "end\n",
    "sleep(0.05)\n",
    "r = readavailable(ser)\n",
    "\n",
    "# Get the values\n",
    "write(ser, \"p\") # Print DMA buffer\n",
    "while bytesavailable(ser) < 1\n",
    "    continue # wait for a response\n",
    "end\n",
    "\n",
    "while true\n",
    "    if bytesavailable(ser) < 2\n",
    "        sleep(0.005) # Wait and check again\n",
    "        if bytesavailable(ser) < 1\n",
    "            break\n",
    "        end\n",
    "    end\n",
    "\n",
    "    b = readavailable(ser)\n",
    "\n",
    "end \n",
    "\n",
    "\n",
    "a=split(b, (\"\\r\\n\"))\n",
    "\n",
    "println(length(a))   \n",
    "\n",
    "\n",
    "while (i<length(a)-1)\n",
    "        push!(ac,parse(Int,(a[i])))        \n",
    "    i+=1\n",
    "end\n",
    "\n",
    "match = (3.3/4096).*ac\n",
    "\n",
    "cla()\n",
    "\n",
    "plot(match)\n",
    "\n"
   ]
  },
  {
   "cell_type": "code",
   "execution_count": null,
   "metadata": {},
   "outputs": [],
   "source": []
  },
  {
   "cell_type": "code",
   "execution_count": null,
   "metadata": {},
   "outputs": [],
   "source": []
  },
  {
   "cell_type": "code",
   "execution_count": null,
   "metadata": {},
   "outputs": [],
   "source": []
  }
 ],
 "metadata": {
  "kernelspec": {
   "display_name": "Julia 1.0.5",
   "language": "julia",
   "name": "julia-1.0"
  },
  "language_info": {
   "file_extension": ".jl",
   "mimetype": "application/julia",
   "name": "julia",
   "version": "1.0.5"
  }
 },
 "nbformat": 4,
 "nbformat_minor": 2
}
