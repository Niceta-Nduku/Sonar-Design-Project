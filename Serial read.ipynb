{
 "cells": [
  {
   "cell_type": "code",
   "execution_count": 28,
   "metadata": {},
   "outputs": [
    {
     "name": "stdout",
     "output_type": "stream",
     "text": [
      "true"
     ]
    },
    {
     "ename": "ArgumentError",
     "evalue": "ArgumentError: extra characters after whitespace in \"2\\r\\n2\\r\\n2\"",
     "output_type": "error",
     "traceback": [
      "ArgumentError: extra characters after whitespace in \"2\\r\\n2\\r\\n2\"",
      "",
      "Stacktrace:",
      " [1] tryparse_internal(::Type{Int64}, ::SubString{String}, ::Int64, ::Int64, ::Int64, ::Bool) at .\\parse.jl:167",
      " [2] #parse#348(::Nothing, ::Function, ::Type{Int64}, ::SubString{String}) at .\\parse.jl:238",
      " [3] parse(::Type{Int64}, ::SubString{String}) at .\\parse.jl:238",
      " [4] top-level scope at .\\In[28]:37"
     ]
    }
   ],
   "source": [
    "using SerialPorts\n",
    "\n",
    "list_serialports() # show available ports\n",
    "\n",
    "ser = SerialPort(\"COM3:\", 9600) \n",
    "\n",
    "r = readavailable(ser)\n",
    "\n",
    "# Start a conversion\n",
    "write(ser, \"c\")\n",
    "\n",
    "BytesAvailable = bytesavailable(ser)\n",
    "\n",
    "while bytesavailable(ser) < 1\n",
    "    continue \n",
    "end\n",
    "sleep(0.05)\n",
    "r = readavailable(ser)\n",
    "\n",
    "# Get the values\n",
    "write(ser, \"p\") # Print DMA buffer\n",
    "while bytesavailable(ser) < 1\n",
    "    continue # wait for a response\n",
    "end\n",
    "a = []\n",
    "i = 0\n",
    "while true\n",
    "    if bytesavailable(ser) < 1\n",
    "        sleep(0.005) # Wait and check again\n",
    "        if bytesavailable(ser) < 1\n",
    "            break\n",
    "        end\n",
    "    end\n",
    "    if bytesavailable(ser) > 4\n",
    "        b = strip(read(ser,7), ['\\r','\\n'])\n",
    "        push!(a,parse(Int64,b))\n",
    "        i += 1\n",
    "    else\n",
    "        read(ser,1)\n",
    "    end\n",
    "    \n",
    "end   \n",
    "\n",
    "print(i)\n",
    "                    \n",
    "close(ser)"
   ]
  },
  {
   "cell_type": "code",
   "execution_count": 20,
   "metadata": {},
   "outputs": [
    {
     "data": {
      "text/plain": [
       "0-element Array{Any,1}"
      ]
     },
     "execution_count": 20,
     "metadata": {},
     "output_type": "execute_result"
    }
   ],
   "source": [
    "receive = (3.3/65536).*a"
   ]
  },
  {
   "cell_type": "code",
   "execution_count": 18,
   "metadata": {},
   "outputs": [
    {
     "data": {
      "image/png": "[encoded data removed]",
      "text/plain": [
       "Figure(PyObject <Figure size 640x480 with 1 Axes>)"
      ]
     },
     "metadata": {},
     "output_type": "display_data"
    },
    {
     "data": {
      "text/plain": [
       "1-element Array{PyCall.PyObject,1}:\n",
       " PyObject <matplotlib.lines.Line2D object at 0x0000000000F9EB70>"
      ]
     },
     "execution_count": 18,
     "metadata": {},
     "output_type": "execute_result"
    }
   ],
   "source": [
    "using PyPlot\n",
    "figure()\n",
    "plot(receive)"
   ]
  },
  {
   "cell_type": "code",
   "execution_count": 27,
   "metadata": {},
   "outputs": [
    {
     "data": {
      "text/plain": [
       "SerialPort(\"COM3:\", 9600, 8, \"N\", 1, nothing, false, false, false, PyObject Serial<id=0xf9ecc0, open=False>(port='COM3:', baudrate=9600, bytesize=8, parity='N', stopbits=1, timeout=None, xonxoff=False, rtscts=False, dsrdtr=False))"
      ]
     },
     "execution_count": 27,
     "metadata": {},
     "output_type": "execute_result"
    }
   ],
   "source": [
    "close(ser)"
   ]
  },
  {
   "cell_type": "code",
   "execution_count": null,
   "metadata": {},
   "outputs": [],
   "source": []
  }
 ],
 "metadata": {
  "kernelspec": {
   "display_name": "Julia 1.1.0",
   "language": "julia",
   "name": "julia-1.1"
  },
  "language_info": {
   "file_extension": ".jl",
   "mimetype": "application/julia",
   "name": "julia",
   "version": "1.1.0"
  }
 },
 "nbformat": 4,
 "nbformat_minor": 2
}
