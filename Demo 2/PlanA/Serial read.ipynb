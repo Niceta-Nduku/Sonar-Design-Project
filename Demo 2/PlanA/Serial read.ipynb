{
 "cells": [
  {
   "cell_type": "code",
   "execution_count": 7,
   "metadata": {},
   "outputs": [
    {
     "name": "stderr",
     "output_type": "stream",
     "text": [
      "┌ Info: Precompiling SerialPorts [5d0f9de7-4c7f-54f5-bec2-484e8c04014e]\n",
      "└ @ Base loading.jl:1192\n",
      "ERROR: LoadError: LoadError: PyCall not properly installed. Please run Pkg.build(\"PyCall\")\n",
      "Stacktrace:\n",
      " [1] error(::String) at ./error.jl:33\n",
      " [2] top-level scope at /home/myneighbour/.julia/packages/PyCall/ttONZ/src/startup.jl:44 [inlined]\n",
      " [3] top-level scope at ./none:0\n",
      " [4] include at ./boot.jl:317 [inlined]\n",
      " [5] include_relative(::Module, ::String) at ./loading.jl:1044\n",
      " [6] include at ./sysimg.jl:29 [inlined]\n",
      " [7] include(::String) at /home/myneighbour/.julia/packages/PyCall/ttONZ/src/PyCall.jl:1\n",
      " [8] top-level scope at none:0\n",
      " [9] include at ./boot.jl:317 [inlined]\n",
      " [10] include_relative(::Module, ::String) at ./loading.jl:1044\n",
      " [11] include(::Module, ::String) at ./sysimg.jl:29\n",
      " [12] top-level scope at none:2\n",
      " [13] eval at ./boot.jl:319 [inlined]\n",
      " [14] eval(::Expr) at ./client.jl:393\n",
      " [15] top-level scope at ./none:3\n",
      "in expression starting at /home/myneighbour/.julia/packages/PyCall/ttONZ/src/startup.jl:41\n",
      "in expression starting at /home/myneighbour/.julia/packages/PyCall/ttONZ/src/PyCall.jl:41\n",
      "ERROR: LoadError: Failed to precompile PyCall [438e738f-606a-5dbb-bf0a-cddfbfd45ab0] to /home/myneighbour/.julia/compiled/v1.0/PyCall/GkzkC.ji.\n",
      "Stacktrace:\n",
      " [1] error(::String) at ./error.jl:33\n",
      " [2] compilecache(::Base.PkgId, ::String) at ./loading.jl:1203\n",
      " [3] _require(::Base.PkgId) at ./loading.jl:960\n",
      " [4] require(::Base.PkgId) at ./loading.jl:858\n",
      " [5] require(::Module, ::Symbol) at ./loading.jl:853\n",
      " [6] include at ./boot.jl:317 [inlined]\n",
      " [7] include_relative(::Module, ::String) at ./loading.jl:1044\n",
      " [8] include(::Module, ::String) at ./sysimg.jl:29\n",
      " [9] top-level scope at none:2\n",
      " [10] eval at ./boot.jl:319 [inlined]\n",
      " [11] eval(::Expr) at ./client.jl:393\n",
      " [12] top-level scope at ./none:3\n",
      "in expression starting at /home/myneighbour/.julia/packages/SerialPorts/yXpKm/src/SerialPorts.jl:6\n"
     ]
    },
    {
     "ename": "ErrorException",
     "evalue": "Failed to precompile SerialPorts [5d0f9de7-4c7f-54f5-bec2-484e8c04014e] to /home/myneighbour/.julia/compiled/v1.0/SerialPorts/N0dQG.ji.",
     "output_type": "error",
     "traceback": [
      "Failed to precompile SerialPorts [5d0f9de7-4c7f-54f5-bec2-484e8c04014e] to /home/myneighbour/.julia/compiled/v1.0/SerialPorts/N0dQG.ji.",
      "",
      "Stacktrace:",
      " [1] error(::String) at ./error.jl:33",
      " [2] compilecache(::Base.PkgId, ::String) at ./loading.jl:1203",
      " [3] _require(::Base.PkgId) at ./loading.jl:960",
      " [4] require(::Base.PkgId) at ./loading.jl:858",
      " [5] require(::Module, ::Symbol) at ./loading.jl:853",
      " [6] top-level scope at In[7]:1"
     ]
    }
   ],
   "source": [
    "#Libraries to import\n",
    "using SerialPorts\n",
    "using PyPlot\n",
    "using FFTW \n",
    "list_serialports()"
   ]
  },
  {
   "cell_type": "code",
   "execution_count": 8,
   "metadata": {},
   "outputs": [
    {
     "ename": "UndefVarError",
     "evalue": "UndefVarError: list_serialports not defined",
     "output_type": "error",
     "traceback": [
      "UndefVarError: list_serialports not defined",
      "",
      "Stacktrace:",
      " [1] top-level scope at In[8]:1"
     ]
    }
   ],
   "source": [
    "list_serialports() # show available ports\n",
    "\n",
    "array_one = []\n",
    "array_two = []\n",
    "\n",
    "b = \"\"\n",
    "\n",
    "\n",
    "ser = SerialPort(\"COM3:\", 9600) \n",
    "\n",
    "readavailable(ser)\n",
    "\n",
    "#transmit and receive\n",
    "write(ser, \"c\")\n",
    "\n",
    "while bytesavailable(ser) < 1\n",
    "    continue \n",
    "end\n",
    "\n",
    "sleep(0.05)\n",
    "readavailable(ser) #removes the conversion complete line\n",
    "\n",
    "# Get the first buffer\n",
    "\n",
    "write(ser, \"a\") # Print DMA buffer\n",
    "while bytesavailable(ser) < 1\n",
    "    continue # wait for a response\n",
    "end\n",
    "\n",
    "while true\n",
    "    if bytesavailable(ser) < 2\n",
    "        sleep(0.005) # Wait and check again\n",
    "        if bytesavailable(ser) < 1\n",
    "            break\n",
    "        end\n",
    "    end\n",
    "\n",
    "    b = string(b, readavailable(ser))\n",
    "\n",
    "end \n",
    "\n",
    "array_one=split(b, (\"\\r\\n\"))\n",
    "\n",
    "b = \"\" #clear b\n",
    "\n",
    "#second buffer\n",
    "write(ser, \"b\") # Print DMA buffer\n",
    "while bytesavailable(ser) < 1\n",
    "    continue # wait for a response\n",
    "end\n",
    "\n",
    "while true\n",
    "    if bytesavailable(ser) < 2\n",
    "        sleep(0.005) # Wait and check again\n",
    "        if bytesavailable(ser) < 1\n",
    "            break\n",
    "        end\n",
    "    end\n",
    "\n",
    "    b = string(b, readavailable(ser))\n",
    "\n",
    "end \n",
    "\n",
    "close(ser)\n",
    "\n",
    "array_two=split(b, (\"\\r\\n\"))\n",
    "\n",
    "\n",
    "println(length(array_one)) \n",
    "println(length(array_two)) \n"
   ]
  },
  {
   "cell_type": "code",
   "execution_count": null,
   "metadata": {},
   "outputs": [],
   "source": [
    "ac = []\n",
    "i=1\n",
    "\n",
    "while (i<length(a)-1)\n",
    "    if length(array_one[i])>5\n",
    "        push!(ac,parse(Int,(array_one[i][1:4])))\n",
    "        push!(ac,parse(Int,(array_one[i][5:8])))\n",
    "    else    \n",
    "        push!(ac,parse(Int,(array_one[i])))        \n",
    "    end \n",
    "    i+=1\n",
    "end\n",
    "\n",
    "match = (3.3/4096).*ac\n",
    "\n",
    "figure()\n",
    "plot(match)"
   ]
  },
  {
   "cell_type": "code",
   "execution_count": 6,
   "metadata": {},
   "outputs": [
    {
     "ename": "Base.IOError",
     "evalue": "IOError: could not spawn `/home/myneighbour/.julia/packages/FFMPEG/bkWgb/deps/usr/bin/ffmpeg -v 0 -i /tmp/tmpRDrjqW/%06d.png -vf palettegen=stats_mode=diff -y /tmp/tmpRDrjqW/palette.bmp`: no such file or directory (ENOENT)",
     "output_type": "error",
     "traceback": [
      "IOError: could not spawn `/home/myneighbour/.julia/packages/FFMPEG/bkWgb/deps/usr/bin/ffmpeg -v 0 -i /tmp/tmpRDrjqW/%06d.png -vf palettegen=stats_mode=diff -y /tmp/tmpRDrjqW/palette.bmp`: no such file or directory (ENOENT)",
      "",
      "Stacktrace:",
      " [1] _jl_spawn(::String, ::Array{String,1}, ::Cmd, ::Tuple{RawFD,RawFD,RawFD}) at ./process.jl:367",
      " [2] (::getfield(Base, Symbol(\"##495#496\")){Cmd})(::Tuple{RawFD,RawFD,RawFD}) at ./process.jl:509",
      " [3] setup_stdio(::getfield(Base, Symbol(\"##495#496\")){Cmd}, ::Tuple{RawFD,RawFD,RawFD}) at ./process.jl:490",
      " [4] #_spawn#494(::Nothing, ::Function, ::Cmd, ::Tuple{RawFD,RawFD,RawFD}) at ./process.jl:508",
      " [5] _spawn at ./process.jl:504 [inlined]",
      " [6] #run#505(::Bool, ::Function, ::Cmd) at ./process.jl:662",
      " [7] run at ./process.jl:661 [inlined]",
      " [8] #4 at /home/myneighbour/.julia/packages/FFMPEG/bkWgb/src/FFMPEG.jl:128 [inlined]",
      " [9] withenv(::getfield(FFMPEG, Symbol(\"##4#6\")){String,Cmd}, ::Pair{String,String}) at ./env.jl:148",
      " [10] #exe#2 at /home/myneighbour/.julia/packages/FFMPEG/bkWgb/src/FFMPEG.jl:127 [inlined]",
      " [11] #exe at ./none:0 [inlined]",
      " [12] ffmpeg_exe at /home/myneighbour/.julia/packages/FFMPEG/bkWgb/src/FFMPEG.jl:139 [inlined]",
      " [13] #buildanimation#257(::Int32, ::Int32, ::Bool, ::Bool, ::Function, ::Animation, ::String, ::Bool) at /home/myneighbour/.julia/packages/Plots/h3o4c/src/animation.jl:87",
      " [14] #buildanimation at ./none:0 [inlined] (repeats 2 times)",
      " [15] #gif#254 at /home/myneighbour/.julia/packages/Plots/h3o4c/src/animation.jl:63 [inlined]",
      " [16] (::getfield(Plots, Symbol(\"#kw##gif\")))(::NamedTuple{(:fps,),Tuple{Int32}}, ::typeof(gif), ::Animation, ::String) at ./none:0",
      " [17] top-level scope at In[6]:12"
     ]
    }
   ],
   "source": [
    "using Plots\n",
    "gr()\n",
    "\n",
    "plot(Plots.fakedata(50, 5), w=3)\n",
    "\n",
    "p = plot([sin, cos], zeros(0), leg=false)\n",
    "anim = Animation()\n",
    "for x = range(0, stop=10π, length=100)\n",
    "    push!(p, x, Float64[sin(x), cos(x)])\n",
    "    frame(anim)\n",
    "end\n",
    "\n",
    "gif(anim, \"nice\", fps=15)"
   ]
  },
  {
   "cell_type": "code",
   "execution_count": null,
   "metadata": {},
   "outputs": [],
   "source": [
    "using pyp"
   ]
  }
 ],
 "metadata": {
  "kernelspec": {
   "display_name": "Julia 1.0.4",
   "language": "julia",
   "name": "julia-1.0"
  },
  "language_info": {
   "file_extension": ".jl",
   "mimetype": "application/julia",
   "name": "julia",
   "version": "1.0.4"
  }
 },
 "nbformat": 4,
 "nbformat_minor": 2
}
