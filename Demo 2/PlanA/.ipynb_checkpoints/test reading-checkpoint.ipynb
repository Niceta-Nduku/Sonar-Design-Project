{
 "cells": [
  {
   "cell_type": "code",
   "execution_count": 23,
   "metadata": {},
   "outputs": [
    {
     "name": "stdout",
     "output_type": "stream",
     "text": [
      "COM3\n",
      "\tDescription:\tUSB Serial Device (COM3)\n",
      "\tTransport type:\tSP_TRANSPORT_USB\n",
      "3620"
     ]
    },
    {
     "data": {
      "text/plain": [
       "SerialPort(Ptr{LibSerialPort.SPPort} @0x0000000032dd0550, false, false)"
      ]
     },
     "execution_count": 23,
     "metadata": {},
     "output_type": "execute_result"
    }
   ],
   "source": [
    "#Libraries to import\n",
    "using SerialPorts\n",
    "using PyPlot\n",
    "using FFTW \n",
    "list_serialports()"
   ]
  },
  {
   "cell_type": "code",
   "execution_count": null,
   "metadata": {},
   "outputs": [],
   "source": [
    "list_serialports() # show available ports\n",
    "\n",
    "array_one = []\n",
    "array_two = []\n",
    "\n",
    "b = \"\"\n",
    "\n",
    "\n",
    "ser = SerialPort(\"COM3:\", 9600) \n",
    "\n",
    "readavailable(ser)\n",
    "\n",
    "#transmit and receive\n",
    "write(ser, \"c\")\n",
    "\n",
    "while bytesavailable(ser) < 1\n",
    "    continue \n",
    "end\n",
    "\n",
    "sleep(0.05)\n",
    "readavailable(ser) #removes the conversion complete line\n",
    "\n",
    "# Get the first buffer\n",
    "\n",
    "write(ser, \"a\") # Print DMA buffer\n",
    "while bytesavailable(ser) < 1\n",
    "    continue # wait for a response\n",
    "end\n",
    "\n",
    "while true\n",
    "    if bytesavailable(ser) < 2\n",
    "        sleep(0.005) # Wait and check again\n",
    "        if bytesavailable(ser) < 1\n",
    "            break\n",
    "        end\n",
    "    end\n",
    "\n",
    "    b = string(b, readavailable(ser))\n",
    "\n",
    "end \n",
    "\n",
    "array_one=split(b, (\"\\r\\n\"))\n",
    "\n",
    "b = \"\" #clear b\n",
    "\n",
    "#second buffer\n",
    "write(ser, \"b\") # Print DMA buffer\n",
    "while bytesavailable(ser) < 1\n",
    "    continue # wait for a response\n",
    "end\n",
    "\n",
    "while true\n",
    "    if bytesavailable(ser) < 2\n",
    "        sleep(0.005) # Wait and check again\n",
    "        if bytesavailable(ser) < 1\n",
    "            break\n",
    "        end\n",
    "    end\n",
    "\n",
    "    b = string(b, readavailable(ser))\n",
    "\n",
    "end \n",
    "\n",
    "close(ser)\n",
    "\n",
    "array_two=split(b, (\"\\r\\n\"))\n",
    "\n",
    "\n",
    "println(length(array_one)) \n",
    "println(length(array_two)) \n"
   ]
  },
  {
   "cell_type": "code",
   "execution_count": null,
   "metadata": {},
   "outputs": [],
   "source": []
  }
 ],
 "metadata": {
  "kernelspec": {
   "display_name": "Julia 1.0.4",
   "language": "julia",
   "name": "julia-1.0"
  },
  "language_info": {
   "file_extension": ".jl",
   "mimetype": "application/julia",
   "name": "julia",
   "version": "1.0.4"
  }
 },
 "nbformat": 4,
 "nbformat_minor": 2
}
